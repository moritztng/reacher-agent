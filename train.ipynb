{
 "cells": [
  {
   "cell_type": "markdown",
   "metadata": {},
   "source": [
    "# Train Reacher Agent"
   ]
  },
  {
   "cell_type": "markdown",
   "metadata": {},
   "source": [
    "## Install Dependencies"
   ]
  },
  {
   "cell_type": "code",
   "execution_count": 1,
   "metadata": {},
   "outputs": [
    {
     "name": "stdout",
     "output_type": "stream",
     "text": [
      "\u001b[31mtensorflow 1.7.1 has requirement numpy>=1.13.3, but you'll have numpy 1.12.1 which is incompatible.\u001b[0m\r\n",
      "\u001b[31mipython 6.5.0 has requirement prompt-toolkit<2.0.0,>=1.0.15, but you'll have prompt-toolkit 2.0.10 which is incompatible.\u001b[0m\r\n"
     ]
    }
   ],
   "source": [
    "!pip -q install ./python"
   ]
  },
  {
   "cell_type": "markdown",
   "metadata": {},
   "source": [
    "## Import Libraries"
   ]
  },
  {
   "cell_type": "code",
   "execution_count": 2,
   "metadata": {},
   "outputs": [],
   "source": [
    "seed = 86\n",
    "\n",
    "import torch, random\n",
    "random.seed(seed)\n",
    "import torch.nn as nn\n",
    "torch.manual_seed(seed)\n",
    "\n",
    "from collections import namedtuple\n",
    "from tqdm import tqdm_notebook\n",
    "from workspace_utils import active_session\n",
    "import matplotlib.pyplot as plt\n",
    "\n",
    "from unityagents import UnityEnvironment\n",
    "import numpy as np\n",
    "np.random.seed(seed)"
   ]
  },
  {
   "cell_type": "markdown",
   "metadata": {},
   "source": [
    "## Define Network"
   ]
  },
  {
   "cell_type": "code",
   "execution_count": 4,
   "metadata": {},
   "outputs": [],
   "source": [
    "class Critic(nn.Module):\n",
    "    def __init__(self, n_state, n_hidden = [128, 128], n_action=0):\n",
    "        super(Critic, self).__init__()\n",
    "        self.n_state = n_state\n",
    "        self.n_hidden = n_hidden\n",
    "        self.bn1 = nn.BatchNorm1d(n_state)\n",
    "        self.fc1 = nn.Linear(n_state, n_hidden[0])\n",
    "        self.fc2 = nn.Linear(n_hidden[0]+n_action, n_hidden[1])\n",
    "        self.fc3 = nn.Linear(n_hidden[1], 1)\n",
    "        self.fc3.weight.data.uniform_(-3e-3, 3e-3)\n",
    "        self.relu = nn.ReLU()\n",
    "    def forward(self, state, action):\n",
    "        x = state\n",
    "        x = self.relu(self.fc1(x))\n",
    "        x = self.relu(self.fc2(torch.cat((x, action), dim=1)))\n",
    "        x = self.fc3(x)\n",
    "        return x"
   ]
  },
  {
   "cell_type": "code",
   "execution_count": 3,
   "metadata": {},
   "outputs": [],
   "source": [
    "class Actor(nn.Module):\n",
    "    def __init__(self, n_state, n_action, n_hidden = [128, 128]):\n",
    "        super(Actor, self).__init__()\n",
    "        self.n_state = n_state\n",
    "        self.n_hidden = n_hidden\n",
    "        self.n_action= n_action\n",
    "        self.bn1 = nn.BatchNorm1d(n_state)\n",
    "        self.fc1 = nn.Linear(n_state, n_hidden[0])\n",
    "        self.bn2 = nn.BatchNorm1d(n_hidden[0])\n",
    "        self.fc2 = nn.Linear(n_hidden[0], n_hidden[1])\n",
    "        self.bn3 = nn.BatchNorm1d(n_hidden[1])\n",
    "        self.fc3 = nn.Linear(n_hidden[1], n_action)\n",
    "        self.fc3.weight.data.uniform_(-3e-3, 3e-3)\n",
    "        self.relu = nn.ReLU()\n",
    "        self.tanh = nn.Tanh()\n",
    "    def forward(self, state):\n",
    "        x = self.relu(self.fc1(state))\n",
    "        x = self.relu(self.fc2(x))\n",
    "        x = self.tanh(self.fc3(x))                           \n",
    "        return x"
   ]
  },
  {
   "cell_type": "markdown",
   "metadata": {},
   "source": [
    "## Define Replay Buffer"
   ]
  },
  {
   "cell_type": "code",
   "execution_count": 5,
   "metadata": {},
   "outputs": [],
   "source": [
    "Transition = namedtuple('Transition',\n",
    "                        ('state', 'action', 'next_state', 'reward', 'done'))\n",
    "\n",
    "\n",
    "class ReplayMemory(object):\n",
    "\n",
    "    def __init__(self, capacity):\n",
    "        self.capacity = capacity\n",
    "        self.memory = []\n",
    "        self.position = 0\n",
    "\n",
    "    def push(self, *args):\n",
    "        \"\"\"Saves a transition.\"\"\"\n",
    "        if len(self.memory) < self.capacity:\n",
    "            self.memory.append(None)\n",
    "        self.memory[self.position] = Transition(*args)\n",
    "        self.position = int((self.position + 1) % self.capacity)\n",
    "\n",
    "    def sample(self, batch_size):\n",
    "        return random.sample(self.memory, batch_size)\n",
    "\n",
    "    def __len__(self):\n",
    "        return len(self.memory)"
   ]
  },
  {
   "cell_type": "markdown",
   "metadata": {},
   "source": [
    "## Initialize Hyperparameters"
   ]
  },
  {
   "cell_type": "code",
   "execution_count": 6,
   "metadata": {},
   "outputs": [],
   "source": [
    "replay_capacity = 1e6\n",
    "lr_actor = 1e-3\n",
    "lr_critic = 1e-3\n",
    "weight_decay_critic = 0\n",
    "discount_factor = 0.9\n",
    "tau = 1e-3\n",
    "batch_size = 256\n",
    "noise_std_start = 1\n",
    "noise_std_decay = 0.96\n",
    "noise_std_min = 0.01\n",
    "episodes = 1000\n",
    "max_t = 10000\n",
    "n_steps = 20\n",
    "iterations = 10\n",
    "device = 'cuda' if torch.cuda.is_available() else 'cpu'"
   ]
  },
  {
   "cell_type": "markdown",
   "metadata": {},
   "source": [
    "## Instantiate Actor, Critic,  Replay Buffer, Loss, Optimizer and Environment"
   ]
  },
  {
   "cell_type": "code",
   "execution_count": 7,
   "metadata": {},
   "outputs": [
    {
     "name": "stderr",
     "output_type": "stream",
     "text": [
      "INFO:unityagents:\n",
      "'Academy' started successfully!\n",
      "Unity Academy name: Academy\n",
      "        Number of Brains: 1\n",
      "        Number of External Brains : 1\n",
      "        Lesson number : 0\n",
      "        Reset Parameters :\n",
      "\t\tgoal_speed -> 1.0\n",
      "\t\tgoal_size -> 5.0\n",
      "Unity brain name: ReacherBrain\n",
      "        Number of Visual Observations (per agent): 0\n",
      "        Vector Observation space type: continuous\n",
      "        Vector Observation space size (per agent): 33\n",
      "        Number of stacked Vector Observation: 1\n",
      "        Vector Action space type: continuous\n",
      "        Vector Action space size (per agent): 4\n",
      "        Vector Action descriptions: , , , \n"
     ]
    }
   ],
   "source": [
    "env = UnityEnvironment(file_name='/data/Reacher_One_Linux_NoVis/Reacher_One_Linux_NoVis.x86_64', seed=seed)\n",
    "brain_name = env.brain_names[0]\n",
    "brain = env.brains[brain_name]\n",
    "env_info = env.reset(train_mode=True)[brain_name]\n",
    "num_agents = len(env_info.agents)\n",
    "action_size = brain.vector_action_space_size\n",
    "states = env_info.vector_observations\n",
    "state_size = states.shape[1]\n",
    "\n",
    "actor = Actor(state_size, action_size).to(device)\n",
    "actor_target = Actor(state_size, action_size).to(device)\n",
    "critic = Critic(state_size, n_action = action_size).to(device)\n",
    "critic_target = Critic(state_size, n_action = action_size).to(device)\n",
    "for target_param, param in zip(critic_target.parameters(), critic.parameters()):\n",
    "    target_param.data.copy_(param.data)\n",
    "for target_param, param in zip(actor_target.parameters(), actor.parameters()):\n",
    "    target_param.data.copy_(param.data)\n",
    "replay_buffer = ReplayMemory(replay_capacity)\n",
    "criterion = nn.MSELoss()\n",
    "optim_critic = torch.optim.Adam(critic.parameters(), lr=lr_critic, weight_decay=weight_decay_critic)\n",
    "optim_actor = torch.optim.Adam(actor.parameters(), lr=lr_actor)"
   ]
  },
  {
   "cell_type": "markdown",
   "metadata": {},
   "source": [
    "## Learn"
   ]
  },
  {
   "cell_type": "code",
   "execution_count": 8,
   "metadata": {},
   "outputs": [
    {
     "name": "stdout",
     "output_type": "stream",
     "text": [
      "Episode: 10/1000, Score: 0.9359999790787696, Score Actor: 0.03908168524503708, Loss Critic: 4.971494490746409e-06, Noise Std: 0.6648326359915009\n",
      "Episode: 20/1000, Score: 1.169999973848462, Score Actor: 0.029578857123851776, Loss Critic: 1.3142800526111387e-05, Noise Std: 0.4420024338794074\n",
      "Episode: 30/1000, Score: 1.393999968841672, Score Actor: 0.025340870022773743, Loss Critic: 2.483171920175664e-05, Noise Std: 0.29385764323070546\n",
      "Episode: 40/1000, Score: 0.9919999778270722, Score Actor: 0.024689391255378723, Loss Critic: 4.054664168506861e-05, Noise Std: 0.1953661515553199\n",
      "Episode: 50/1000, Score: 1.9989999553188682, Score Actor: 0.02510884217917919, Loss Critic: 5.478798630065285e-05, Noise Std: 0.12988579352203836\n",
      "Episode: 60/1000, Score: 1.9659999560564756, Score Actor: 0.025772271677851677, Loss Critic: 6.672830204479396e-05, Noise Std: 0.08635231448510455\n",
      "Episode: 70/1000, Score: 2.2369999499991535, Score Actor: 0.027602041140198708, Loss Critic: 8.026311843423173e-05, Noise Std: 0.05740983686309911\n",
      "Episode: 80/1000, Score: 2.7599999383091927, Score Actor: 0.029102876782417297, Loss Critic: 9.008682536659762e-05, Noise Std: 0.038167933173536214\n",
      "Episode: 90/1000, Score: 2.5499999430030584, Score Actor: 0.030328214168548584, Loss Critic: 9.688461432233453e-05, Noise Std: 0.025375287622109527\n",
      "Episode: 100/1000, Score: 3.3919999241828918, Score Actor: 0.031702570617198944, Loss Critic: 0.00010875222506001592, Noise Std: 0.01687031935884958\n",
      "Episode: 100/1000, Average Score over 100 episodes: 1.9395999908447266\n",
      "Episode: 110/1000, Score: 3.659999918192625, Score Actor: 0.033082205802202225, Loss Critic: 0.00012195479212095961, Noise Std: 0.011215938889362412\n",
      "Episode: 120/1000, Score: 3.2579999271780253, Score Actor: 0.03399214148521423, Loss Critic: 0.00013199016393627971, Noise Std: 0.01\n",
      "Episode: 130/1000, Score: 4.358999902568757, Score Actor: 0.035428937524557114, Loss Critic: 0.0001396695151925087, Noise Std: 0.01\n",
      "Episode: 140/1000, Score: 5.196999883837998, Score Actor: 0.0377192460000515, Loss Critic: 0.00014798955817241222, Noise Std: 0.01\n",
      "Episode: 150/1000, Score: 5.194999883882701, Score Actor: 0.039279814809560776, Loss Critic: 0.00015525329217780381, Noise Std: 0.01\n",
      "Episode: 160/1000, Score: 4.700999894924462, Score Actor: 0.04135139286518097, Loss Critic: 0.0001649519253987819, Noise Std: 0.01\n",
      "Episode: 170/1000, Score: 4.785999893024564, Score Actor: 0.04287586361169815, Loss Critic: 0.0001703122106846422, Noise Std: 0.01\n",
      "Episode: 180/1000, Score: 6.293999859318137, Score Actor: 0.0444318987429142, Loss Critic: 0.00017943832790479064, Noise Std: 0.01\n",
      "Episode: 190/1000, Score: 7.6809998283162715, Score Actor: 0.04707159474492073, Loss Critic: 0.00018997718871105462, Noise Std: 0.01\n",
      "Episode: 200/1000, Score: 5.903999868035316, Score Actor: 0.04926680028438568, Loss Critic: 0.00020019181829411536, Noise Std: 0.01\n",
      "Episode: 200/1000, Average Score over 100 episodes: 5.103499889373779\n",
      "Episode: 210/1000, Score: 6.011999865621329, Score Actor: 0.05120943859219551, Loss Critic: 0.0002066609013127163, Noise Std: 0.01\n",
      "Episode: 220/1000, Score: 5.727999871969223, Score Actor: 0.05298947915434837, Loss Critic: 0.00021296594059094787, Noise Std: 0.01\n",
      "Episode: 230/1000, Score: 8.897999801114201, Score Actor: 0.05515392869710922, Loss Critic: 0.00021942093735560775, Noise Std: 0.01\n",
      "Episode: 240/1000, Score: 7.793999825790524, Score Actor: 0.05841865390539169, Loss Critic: 0.0002278596512041986, Noise Std: 0.01\n",
      "Episode: 250/1000, Score: 9.48999978788197, Score Actor: 0.06099317967891693, Loss Critic: 0.000232238948228769, Noise Std: 0.01\n",
      "Episode: 260/1000, Score: 8.052999820001423, Score Actor: 0.06386834383010864, Loss Critic: 0.00023900608357507735, Noise Std: 0.01\n",
      "Episode: 270/1000, Score: 8.239999815821648, Score Actor: 0.06612604856491089, Loss Critic: 0.00024409951583947986, Noise Std: 0.01\n",
      "Episode: 280/1000, Score: 9.691999783366919, Score Actor: 0.06843040138483047, Loss Critic: 0.0002482115523889661, Noise Std: 0.01\n",
      "Episode: 290/1000, Score: 10.202999771945178, Score Actor: 0.07089108228683472, Loss Critic: 0.0002501645067241043, Noise Std: 0.01\n",
      "Episode: 300/1000, Score: 10.372999768145382, Score Actor: 0.07299745827913284, Loss Critic: 0.00025058313622139394, Noise Std: 0.01\n",
      "Episode: 300/1000, Average Score over 100 episodes: 8.448299407958984\n",
      "Episode: 310/1000, Score: 11.484999743290246, Score Actor: 0.07543125748634338, Loss Critic: 0.00025568006094545126, Noise Std: 0.01\n",
      "Episode: 320/1000, Score: 13.857999690249562, Score Actor: 0.07810019701719284, Loss Critic: 0.0002575423277448863, Noise Std: 0.01\n",
      "Episode: 330/1000, Score: 13.636999695189298, Score Actor: 0.08107516914606094, Loss Critic: 0.00025989330606535077, Noise Std: 0.01\n",
      "Episode: 340/1000, Score: 16.353999634459615, Score Actor: 0.08469893783330917, Loss Critic: 0.00026741321198642254, Noise Std: 0.01\n",
      "Episode: 350/1000, Score: 17.633999605849386, Score Actor: 0.08866758644580841, Loss Critic: 0.0002710504340939224, Noise Std: 0.01\n",
      "Episode: 360/1000, Score: 17.098999617807568, Score Actor: 0.09230663627386093, Loss Critic: 0.0002738373295869678, Noise Std: 0.01\n",
      "Episode: 370/1000, Score: 18.519999586045742, Score Actor: 0.09667898714542389, Loss Critic: 0.0002830038720276207, Noise Std: 0.01\n",
      "Episode: 380/1000, Score: 17.265999614074826, Score Actor: 0.10059808939695358, Loss Critic: 0.00028450708487071097, Noise Std: 0.01\n",
      "Episode: 390/1000, Score: 19.15399957187474, Score Actor: 0.10435131192207336, Loss Critic: 0.00028924719663336873, Noise Std: 0.01\n",
      "Episode: 400/1000, Score: 18.338999590091408, Score Actor: 0.10855638235807419, Loss Critic: 0.00029507881845347583, Noise Std: 0.01\n",
      "Episode: 400/1000, Average Score over 100 episodes: 16.334598541259766\n",
      "Episode: 410/1000, Score: 19.96699955370277, Score Actor: 0.11314226686954498, Loss Critic: 0.00030172287370078266, Noise Std: 0.01\n",
      "Episode: 420/1000, Score: 20.796999535150825, Score Actor: 0.11737722903490067, Loss Critic: 0.0003024000907316804, Noise Std: 0.01\n",
      "Episode: 430/1000, Score: 21.21999952569604, Score Actor: 0.12144099175930023, Loss Critic: 0.0003017117560375482, Noise Std: 0.01\n",
      "Episode: 440/1000, Score: 20.107999550551177, Score Actor: 0.12497200816869736, Loss Critic: 0.00030618233722634614, Noise Std: 0.01\n",
      "Episode: 450/1000, Score: 24.45199945345521, Score Actor: 0.12871623039245605, Loss Critic: 0.00030832464108243585, Noise Std: 0.01\n",
      "Episode: 460/1000, Score: 23.586999472789465, Score Actor: 0.13256151974201202, Loss Critic: 0.00031130199204199016, Noise Std: 0.01\n",
      "Episode: 470/1000, Score: 24.787999445945026, Score Actor: 0.1360570639371872, Loss Critic: 0.0003086506621912122, Noise Std: 0.01\n",
      "Episode: 480/1000, Score: 24.090999461524188, Score Actor: 0.13951389491558075, Loss Critic: 0.0003126545052509755, Noise Std: 0.01\n",
      "Episode: 490/1000, Score: 25.517999429628254, Score Actor: 0.14325328171253204, Loss Critic: 0.00031527323881164193, Noise Std: 0.01\n",
      "Episode: 500/1000, Score: 28.115999371558427, Score Actor: 0.14631372690200806, Loss Critic: 0.0003182834479957819, Noise Std: 0.01\n",
      "Episode: 500/1000, Average Score over 100 episodes: 23.264400482177734\n",
      "Episode: 510/1000, Score: 28.88999935425818, Score Actor: 0.1504698246717453, Loss Critic: 0.00032639686833135784, Noise Std: 0.01\n",
      "Episode: 520/1000, Score: 28.329999366775155, Score Actor: 0.1549232006072998, Loss Critic: 0.00032818526960909367, Noise Std: 0.01\n",
      "Episode: 530/1000, Score: 29.327999344468118, Score Actor: 0.15939922630786896, Loss Critic: 0.00032852409640327096, Noise Std: 0.01\n",
      "Episode: 540/1000, Score: 29.729999335482717, Score Actor: 0.16353048384189606, Loss Critic: 0.00033715710742399096, Noise Std: 0.01\n",
      "Episode: 550/1000, Score: 30.096999327279626, Score Actor: 0.1676403135061264, Loss Critic: 0.00033294226159341633, Noise Std: 0.01\n",
      "Episode: 560/1000, Score: 28.37399936579168, Score Actor: 0.1715007722377777, Loss Critic: 0.0003408300399314612, Noise Std: 0.01\n",
      "Episode: 570/1000, Score: 32.07899928297847, Score Actor: 0.17446444928646088, Loss Critic: 0.0003405408060643822, Noise Std: 0.01\n",
      "Episode: 580/1000, Score: 33.1239992596209, Score Actor: 0.17797380685806274, Loss Critic: 0.00034024001797661185, Noise Std: 0.01\n",
      "Episode: 590/1000, Score: 35.326999210380016, Score Actor: 0.1818733960390091, Loss Critic: 0.00034194980980828404, Noise Std: 0.01\n",
      "Episode: 600/1000, Score: 33.70799924656749, Score Actor: 0.18636709451675415, Loss Critic: 0.00034556721220724285, Noise Std: 0.01\n",
      "Episode: 600/1000, Average Score over 100 episodes: 30.898698806762695\n",
      "Episode: 610/1000, Score: 34.38599923141301, Score Actor: 0.18978571891784668, Loss Critic: 0.0003435795661062002, Noise Std: 0.01\n",
      "Episode: 620/1000, Score: 34.90199921987951, Score Actor: 0.19379180669784546, Loss Critic: 0.00035013514570891857, Noise Std: 0.01\n",
      "Episode: 630/1000, Score: 35.71799920164049, Score Actor: 0.1977187693119049, Loss Critic: 0.00034789968049153686, Noise Std: 0.01\n",
      "Episode: 640/1000, Score: 36.58199918232858, Score Actor: 0.20206880569458008, Loss Critic: 0.00035245672916062176, Noise Std: 0.01\n",
      "Episode: 650/1000, Score: 38.59299913737923, Score Actor: 0.20636852085590363, Loss Critic: 0.0003531120892148465, Noise Std: 0.01\n",
      "Episode: 660/1000, Score: 37.48499916214496, Score Actor: 0.21128106117248535, Loss Critic: 0.0003506734792608768, Noise Std: 0.01\n",
      "Episode: 670/1000, Score: 38.44299914073199, Score Actor: 0.2155909687280655, Loss Critic: 0.0003498533624224365, Noise Std: 0.01\n",
      "Episode: 680/1000, Score: 37.88099915329367, Score Actor: 0.21992620825767517, Loss Critic: 0.00034254969796165824, Noise Std: 0.01\n",
      "Episode: 690/1000, Score: 37.66799915805459, Score Actor: 0.22380578517913818, Loss Critic: 0.0003432223165873438, Noise Std: 0.01\n",
      "Episode: 700/1000, Score: 39.02899912763387, Score Actor: 0.22725796699523926, Loss Critic: 0.0003480315499473363, Noise Std: 0.01\n",
      "Episode: 700/1000, Average Score over 100 episodes: 37.06869888305664\n",
      "Episode: 710/1000, Score: 38.89799913056195, Score Actor: 0.23056939244270325, Loss Critic: 0.0003489421505946666, Noise Std: 0.01\n",
      "Episode: 720/1000, Score: 38.96399912908673, Score Actor: 0.233724907040596, Loss Critic: 0.00033614179119467735, Noise Std: 0.01\n",
      "Episode: 730/1000, Score: 38.710999134741726, Score Actor: 0.23712536692619324, Loss Critic: 0.0003416691906750202, Noise Std: 0.01\n",
      "Episode: 740/1000, Score: 38.36299914252013, Score Actor: 0.24041888117790222, Loss Critic: 0.00033484608866274357, Noise Std: 0.01\n",
      "Episode: 750/1000, Score: 38.802999132685365, Score Actor: 0.24393028020858765, Loss Critic: 0.00033626978984102607, Noise Std: 0.01\n",
      "Episode: 760/1000, Score: 38.87599913105369, Score Actor: 0.2475702464580536, Loss Critic: 0.0003323405690025538, Noise Std: 0.01\n",
      "Episode: 770/1000, Score: 39.382999119721354, Score Actor: 0.25073474645614624, Loss Critic: 0.0003326868754811585, Noise Std: 0.01\n",
      "Episode: 780/1000, Score: 39.135999125242236, Score Actor: 0.2528572678565979, Loss Critic: 0.00033363158581778407, Noise Std: 0.01\n",
      "Episode: 790/1000, Score: 39.16399912461638, Score Actor: 0.2551766633987427, Loss Critic: 0.00032622067374177277, Noise Std: 0.01\n",
      "Episode: 800/1000, Score: 39.05399912707507, Score Actor: 0.2567177712917328, Loss Critic: 0.00032234523678198457, Noise Std: 0.01\n",
      "Episode: 800/1000, Average Score over 100 episodes: 38.93519973754883\n",
      "Episode: 810/1000, Score: 39.002999128215016, Score Actor: 0.25840485095977783, Loss Critic: 0.0003267310676164925, Noise Std: 0.01\n",
      "Episode: 820/1000, Score: 39.07999912649393, Score Actor: 0.260114848613739, Loss Critic: 0.00032000167993828654, Noise Std: 0.01\n",
      "Episode: 830/1000, Score: 38.90999913029373, Score Actor: 0.2620757818222046, Loss Critic: 0.0003220902581233531, Noise Std: 0.01\n",
      "Episode: 840/1000, Score: 39.10799912586808, Score Actor: 0.264435738325119, Loss Critic: 0.0003225916007068008, Noise Std: 0.01\n",
      "Episode: 850/1000, Score: 39.14999912492931, Score Actor: 0.26575082540512085, Loss Critic: 0.0003200415230821818, Noise Std: 0.01\n",
      "Episode: 860/1000, Score: 39.28699912186712, Score Actor: 0.2670663893222809, Loss Critic: 0.00032064435072243214, Noise Std: 0.01\n",
      "Episode: 870/1000, Score: 39.23099912311882, Score Actor: 0.2685681879520416, Loss Critic: 0.00031088426476344466, Noise Std: 0.01\n",
      "Episode: 880/1000, Score: 39.06299912687391, Score Actor: 0.26964694261550903, Loss Critic: 0.0003128843382000923, Noise Std: 0.01\n",
      "Episode: 890/1000, Score: 39.16299912463874, Score Actor: 0.27086901664733887, Loss Critic: 0.0003091977268923074, Noise Std: 0.01\n",
      "Episode: 900/1000, Score: 38.75899913366884, Score Actor: 0.27206259965896606, Loss Critic: 0.00030738930217921734, Noise Std: 0.01\n",
      "Episode: 900/1000, Average Score over 100 episodes: 39.07539749145508\n",
      "Episode: 910/1000, Score: 38.824999132193625, Score Actor: 0.2734813094139099, Loss Critic: 0.00030668231192976236, Noise Std: 0.01\n",
      "Episode: 920/1000, Score: 39.17699912432581, Score Actor: 0.2752043902873993, Loss Critic: 0.000301346299238503, Noise Std: 0.01\n",
      "Episode: 930/1000, Score: 38.81499913241714, Score Actor: 0.27654221653938293, Loss Critic: 0.0003038050199393183, Noise Std: 0.01\n",
      "Episode: 940/1000, Score: 39.138999125175175, Score Actor: 0.2776358425617218, Loss Critic: 0.000302106054732576, Noise Std: 0.01\n",
      "Episode: 950/1000, Score: 38.54799913838506, Score Actor: 0.27845075726509094, Loss Critic: 0.0002994859532918781, Noise Std: 0.01\n",
      "Episode: 960/1000, Score: 39.16099912468344, Score Actor: 0.279655396938324, Loss Critic: 0.00029639771673828363, Noise Std: 0.01\n",
      "Episode: 970/1000, Score: 38.868999131210145, Score Actor: 0.2810249626636505, Loss Critic: 0.0002977462427224964, Noise Std: 0.01\n",
      "Episode: 980/1000, Score: 38.638999136351046, Score Actor: 0.2821403443813324, Loss Critic: 0.0002971466747112572, Noise Std: 0.01\n",
      "Episode: 990/1000, Score: 38.894999130629, Score Actor: 0.28360676765441895, Loss Critic: 0.0002979044511448592, Noise Std: 0.01\n",
      "Episode: 1000/1000, Score: 39.30499912146479, Score Actor: 0.28454557061195374, Loss Critic: 0.000302138359984383, Noise Std: 0.01\n",
      "Episode: 1000/1000, Average Score over 100 episodes: 38.93730163574219\n"
     ]
    }
   ],
   "source": [
    "scores = []\n",
    "mean_loss_critic = []\n",
    "mean_score_actor = []\n",
    "loss_critic = []\n",
    "score_actor = []\n",
    "score = 0\n",
    "steps = 0\n",
    "noise_std = noise_std_start\n",
    "with active_session():\n",
    "    for i in range(episodes):\n",
    "        env_info = env.reset(train_mode=True)[brain_name]   \n",
    "        state = torch.from_numpy(env_info.vector_observations).float().to(device)\n",
    "        for t in range(max_t):\n",
    "            with torch.no_grad():\n",
    "                actor.eval()\n",
    "                action = torch.clamp(actor(state)+torch.zeros((1, action_size)).normal_(0,noise_std).to(device),-1,1).to('cpu').numpy()#+ ou_process.sample() \n",
    "                actor.train()\n",
    "                env_info = env.step(action)[brain_name]\n",
    "                action = torch.from_numpy(action).float()\n",
    "                next_state = torch.from_numpy(env_info.vector_observations).squeeze().float()\n",
    "                reward = torch.tensor(env_info.rewards).float()\n",
    "                score += reward.item()\n",
    "                done = torch.tensor(env_info.local_done).float()\n",
    "                replay_buffer.push(state.to('cpu').squeeze(), action.squeeze(), next_state, reward, done)\n",
    "            if((steps+1)%n_steps==0 and len(replay_buffer)>=batch_size):\n",
    "                for iteration in range(iterations):\n",
    "                    with torch.no_grad():  \n",
    "                        sample = replay_buffer.sample(batch_size)\n",
    "                        states = torch.cat([row.state.unsqueeze(0) for row in sample], dim=0).to(device)\n",
    "                        actions = torch.cat([row.action.unsqueeze(0) for row in sample], dim=0).to(device)\n",
    "                        rewards = torch.cat([row.reward.unsqueeze(0) for row in sample], dim=0).to(device)\n",
    "                        next_states = torch.cat([row.next_state.unsqueeze(0) for row in sample], dim=0).to(device)\n",
    "                        dones = torch.cat([row.done.unsqueeze(0) for row in sample], dim=0).to(device)\n",
    "                        targets = rewards + (1-dones) * discount_factor * critic_target(next_states, actor_target(next_states))\n",
    "                    optim_critic.zero_grad()\n",
    "                    predictions = critic(states, actions)\n",
    "                    loss = criterion(predictions, targets)\n",
    "                    loss_critic.append(loss.item())\n",
    "                    loss.backward()\n",
    "                    optim_critic.step()\n",
    "                    optim_actor.zero_grad()\n",
    "                    loss = -critic(states, actor(states)).mean()\n",
    "                    score_actor.append(-loss.item())\n",
    "                    loss.backward()\n",
    "                    optim_actor.step()\n",
    "                    with torch.no_grad():\n",
    "                        for target_param, param in zip(critic_target.parameters(), critic.parameters()):\n",
    "                            target_param.data.copy_(target_param.data * (1.0 - tau) + param.data * tau)\n",
    "                        for target_param, param in zip(actor_target.parameters(), actor.parameters()):\n",
    "                            target_param.data.copy_(target_param.data * (1.0 - tau) + param.data * tau)\n",
    "            steps += 1\n",
    "            if done.item():\n",
    "                break\n",
    "            state = next_state.unsqueeze(0).to(device)\n",
    "        noise_std = max(noise_std*noise_std_decay,noise_std_min)\n",
    "        if (i+1)%10==0:\n",
    "            avg_score = score/10\n",
    "            avg_score_actor = torch.tensor(score_actor).mean().item()\n",
    "            avg_loss_critic = torch.tensor(loss_critic).mean().item()\n",
    "            scores.append(avg_score)\n",
    "            mean_loss_critic.append(avg_loss_critic)\n",
    "            mean_score_actor.append(avg_score_actor)    \n",
    "            print(\"Episode: {}/{}, Score: {}, Score Actor: {}, Loss Critic: {}, Noise Std: {}\".format(i+1, episodes, avg_score, avg_score_actor, avg_loss_critic, noise_std))\n",
    "            score_actor = []\n",
    "            loss_critic = []\n",
    "            score = 0\n",
    "        if (i+1)%100==0:                                                                   \n",
    "            avg_score = torch.tensor(scores[-10:]).mean()\n",
    "            print(\"Episode: {}/{}, Average Score over {} episodes: {}\".format(i+1, episodes, 100, avg_score))     "
   ]
  },
  {
   "cell_type": "markdown",
   "metadata": {},
   "source": [
    "## Evaluate"
   ]
  },
  {
   "cell_type": "code",
   "execution_count": 10,
   "metadata": {},
   "outputs": [
    {
     "data": {
      "image/png": "[encoded data removed]",
      "text/plain": [
       "<matplotlib.figure.Figure at 0x7f34fae7d278>"
      ]
     },
     "metadata": {
      "needs_background": "light"
     },
     "output_type": "display_data"
    }
   ],
   "source": [
    "plt.plot(scores)\n",
    "plt.title(\"Average Score\")\n",
    "plt.show()"
   ]
  },
  {
   "cell_type": "code",
   "execution_count": 11,
   "metadata": {},
   "outputs": [
    {
     "data": {
      "image/png": "[encoded data removed]",
      "text/plain": [
       "<matplotlib.figure.Figure at 0x7f34bf03b470>"
      ]
     },
     "metadata": {
      "needs_background": "light"
     },
     "output_type": "display_data"
    }
   ],
   "source": [
    "plt.plot(mean_loss_critic)\n",
    "plt.title(\"Critic Loss\")\n",
    "plt.show()"
   ]
  },
  {
   "cell_type": "code",
   "execution_count": 12,
   "metadata": {},
   "outputs": [
    {
     "data": {
      "image/png": "[encoded data removed]",
      "text/plain": [
       "<matplotlib.figure.Figure at 0x7f34bef8ddd8>"
      ]
     },
     "metadata": {
      "needs_background": "light"
     },
     "output_type": "display_data"
    }
   ],
   "source": [
    "plt.plot(mean_score_actor)\n",
    "plt.title(\"Actor Score\")\n",
    "plt.show()"
   ]
  },
  {
   "cell_type": "markdown",
   "metadata": {},
   "source": [
    "## Save Weights"
   ]
  },
  {
   "cell_type": "code",
   "execution_count": 13,
   "metadata": {},
   "outputs": [],
   "source": [
    "torch.save(actor.state_dict(), \"actor.pth\")"
   ]
  }
 ],
 "metadata": {
  "kernelspec": {
   "display_name": "Python 3",
   "language": "python",
   "name": "python3"
  },
  "language_info": {
   "codemirror_mode": {
    "name": "ipython",
    "version": 3
   },
   "file_extension": ".py",
   "mimetype": "text/x-python",
   "name": "python",
   "nbconvert_exporter": "python",
   "pygments_lexer": "ipython3",
   "version": "3.7.3"
  }
 },
 "nbformat": 4,
 "nbformat_minor": 2
}

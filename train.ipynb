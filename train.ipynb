{
 "cells": [
  {
   "cell_type": "markdown",
   "metadata": {},
   "source": [
    "# Train Reacher Agent"
   ]
  },
  {
   "cell_type": "markdown",
   "metadata": {},
   "source": [
    "## Install Requirements"
   ]
  },
  {
   "cell_type": "code",
   "execution_count": 1,
   "metadata": {},
   "outputs": [
    {
     "name": "stdout",
     "output_type": "stream",
     "text": [
      "\u001b[31mtensorflow 1.7.1 has requirement numpy>=1.13.3, but you'll have numpy 1.12.1 which is incompatible.\u001b[0m\r\n",
      "\u001b[31mipython 6.5.0 has requirement prompt-toolkit<2.0.0,>=1.0.15, but you'll have prompt-toolkit 2.0.10 which is incompatible.\u001b[0m\r\n"
     ]
    }
   ],
   "source": [
    "!pip -q install ./python"
   ]
  },
  {
   "cell_type": "markdown",
   "metadata": {},
   "source": [
    "### Import Libraries"
   ]
  },
  {
   "cell_type": "code",
   "execution_count": 2,
   "metadata": {},
   "outputs": [],
   "source": [
    "seed = 86\n",
    "\n",
    "import torch, random\n",
    "random.seed(seed)\n",
    "import torch.nn as nn\n",
    "torch.manual_seed(seed)\n",
    "\n",
    "from collections import namedtuple\n",
    "from tqdm import tqdm_notebook\n",
    "from workspace_utils import active_session\n",
    "import matplotlib.pyplot as plt\n",
    "\n",
    "from unityagents import UnityEnvironment\n",
    "import numpy as np\n",
    "np.random.seed(seed)"
   ]
  },
  {
   "cell_type": "markdown",
   "metadata": {},
   "source": [
    "### Define Network"
   ]
  },
  {
   "cell_type": "code",
   "execution_count": 3,
   "metadata": {},
   "outputs": [],
   "source": [
    "class Critic(nn.Module):\n",
    "    def __init__(self, n_state, n_hidden = [128, 128], n_action=0):\n",
    "        super(Critic, self).__init__()\n",
    "        self.n_state = n_state\n",
    "        self.n_hidden = n_hidden\n",
    "        self.bn1 = nn.BatchNorm1d(n_state)\n",
    "        self.fc1 = nn.Linear(n_state, n_hidden[0])\n",
    "        self.fc2 = nn.Linear(n_hidden[0]+n_action, n_hidden[1])\n",
    "        self.fc3 = nn.Linear(n_hidden[1], 1)\n",
    "        self.fc3.weight.data.uniform_(-3e-3, 3e-3)\n",
    "        self.relu = nn.ReLU()\n",
    "    def forward(self, state, action):\n",
    "        x = state\n",
    "        x = self.relu(self.fc1(x))\n",
    "        x = self.relu(self.fc2(torch.cat((x, action), dim=1)))\n",
    "        x = self.fc3(x)\n",
    "        return x"
   ]
  },
  {
   "cell_type": "code",
   "execution_count": 4,
   "metadata": {},
   "outputs": [],
   "source": [
    "class Actor(nn.Module):\n",
    "    def __init__(self, n_state, n_action, n_hidden = [128, 128]):\n",
    "        super(Actor, self).__init__()\n",
    "        self.n_state = n_state\n",
    "        self.n_hidden = n_hidden\n",
    "        self.n_action= n_action\n",
    "        self.bn1 = nn.BatchNorm1d(n_state)\n",
    "        self.fc1 = nn.Linear(n_state, n_hidden[0])\n",
    "        self.bn2 = nn.BatchNorm1d(n_hidden[0])\n",
    "        self.fc2 = nn.Linear(n_hidden[0], n_hidden[1])\n",
    "        self.bn3 = nn.BatchNorm1d(n_hidden[1])\n",
    "        self.fc3 = nn.Linear(n_hidden[1], n_action)\n",
    "        self.fc3.weight.data.uniform_(-3e-3, 3e-3)\n",
    "        self.relu = nn.ReLU()\n",
    "        self.tanh = nn.Tanh()\n",
    "    def forward(self, state):\n",
    "        x = self.relu(self.fc1(state))\n",
    "        x = self.relu(self.fc2(x))\n",
    "        x = self.tanh(self.fc3(x))                           \n",
    "        return x"
   ]
  },
  {
   "cell_type": "markdown",
   "metadata": {},
   "source": [
    "### Define Replay Buffer"
   ]
  },
  {
   "cell_type": "code",
   "execution_count": 5,
   "metadata": {},
   "outputs": [],
   "source": [
    "Transition = namedtuple('Transition',\n",
    "                        ('state', 'action', 'next_state', 'reward', 'done'))\n",
    "\n",
    "\n",
    "class ReplayMemory(object):\n",
    "\n",
    "    def __init__(self, capacity):\n",
    "        self.capacity = capacity\n",
    "        self.memory = []\n",
    "        self.position = 0\n",
    "\n",
    "    def push(self, *args):\n",
    "        \"\"\"Saves a transition.\"\"\"\n",
    "        if len(self.memory) < self.capacity:\n",
    "            self.memory.append(None)\n",
    "        self.memory[self.position] = Transition(*args)\n",
    "        self.position = int((self.position + 1) % self.capacity)\n",
    "\n",
    "    def sample(self, batch_size):\n",
    "        return random.sample(self.memory, batch_size)\n",
    "\n",
    "    def __len__(self):\n",
    "        return len(self.memory)"
   ]
  },
  {
   "cell_type": "markdown",
   "metadata": {},
   "source": [
    "### Initialize Hyperparameters"
   ]
  },
  {
   "cell_type": "code",
   "execution_count": 6,
   "metadata": {},
   "outputs": [],
   "source": [
    "replay_capacity = 1e6\n",
    "lr_actor = 1e-3\n",
    "lr_critic = 1e-4\n",
    "weight_decay_critic = 0\n",
    "discount_factor = 0.9\n",
    "tau = 1e-3\n",
    "batch_size = 256\n",
    "noise_std_start = 1\n",
    "noise_std_decay = 0.96\n",
    "noise_std_min = 0.01\n",
    "episodes = 1000\n",
    "max_t = 10000\n",
    "n_steps = 20\n",
    "iterations = 10\n",
    "device = 'cuda' if torch.cuda.is_available() else 'cpu'"
   ]
  },
  {
   "cell_type": "markdown",
   "metadata": {},
   "source": [
    "### Instantiate Actor, Critic,  Replay Buffer, Loss, Optimizer and Environment"
   ]
  },
  {
   "cell_type": "code",
   "execution_count": 7,
   "metadata": {},
   "outputs": [
    {
     "name": "stderr",
     "output_type": "stream",
     "text": [
      "INFO:unityagents:\n",
      "'Academy' started successfully!\n",
      "Unity Academy name: Academy\n",
      "        Number of Brains: 1\n",
      "        Number of External Brains : 1\n",
      "        Lesson number : 0\n",
      "        Reset Parameters :\n",
      "\t\tgoal_speed -> 1.0\n",
      "\t\tgoal_size -> 5.0\n",
      "Unity brain name: ReacherBrain\n",
      "        Number of Visual Observations (per agent): 0\n",
      "        Vector Observation space type: continuous\n",
      "        Vector Observation space size (per agent): 33\n",
      "        Number of stacked Vector Observation: 1\n",
      "        Vector Action space type: continuous\n",
      "        Vector Action space size (per agent): 4\n",
      "        Vector Action descriptions: , , , \n"
     ]
    }
   ],
   "source": [
    "env = UnityEnvironment(file_name='/data/Reacher_One_Linux_NoVis/Reacher_One_Linux_NoVis.x86_64', seed=seed)\n",
    "brain_name = env.brain_names[0]\n",
    "brain = env.brains[brain_name]\n",
    "env_info = env.reset(train_mode=True)[brain_name]\n",
    "num_agents = len(env_info.agents)\n",
    "action_size = brain.vector_action_space_size\n",
    "states = env_info.vector_observations\n",
    "state_size = states.shape[1]\n",
    "\n",
    "actor = Actor(state_size, action_size).to(device)\n",
    "actor_target = Actor(state_size, action_size).to(device)\n",
    "critic = Critic(state_size, n_action = action_size).to(device)\n",
    "critic_target = Critic(state_size, n_action = action_size).to(device)\n",
    "for target_param, param in zip(critic_target.parameters(), critic.parameters()):\n",
    "    target_param.data.copy_(param.data)\n",
    "for target_param, param in zip(actor_target.parameters(), actor.parameters()):\n",
    "    target_param.data.copy_(param.data)\n",
    "replay_buffer = ReplayMemory(replay_capacity)\n",
    "criterion = nn.MSELoss()\n",
    "optim_critic = torch.optim.Adam(critic.parameters(), lr=lr_critic, weight_decay=weight_decay_critic)\n",
    "optim_actor = torch.optim.Adam(actor.parameters(), lr=lr_actor)"
   ]
  },
  {
   "cell_type": "markdown",
   "metadata": {},
   "source": [
    "### Learn"
   ]
  },
  {
   "cell_type": "code",
   "execution_count": 8,
   "metadata": {},
   "outputs": [
    {
     "name": "stdout",
     "output_type": "stream",
     "text": [
      "Episode: 10/1000, Score: 0.754999983124435, Score Actor: 0.042979031801223755, Loss Critic: 1.0029503755504265e-05, Noise Std: 0.6648326359915009\n",
      "Episode: 20/1000, Score: 0.8459999810904264, Score Actor: 0.0386008694767952, Loss Critic: 2.2516851458931342e-05, Noise Std: 0.4420024338794074\n",
      "Episode: 30/1000, Score: 0.7579999830573797, Score Actor: 0.03731442987918854, Loss Critic: 3.5491615562932566e-05, Noise Std: 0.29385764323070546\n",
      "Episode: 40/1000, Score: 1.893999957665801, Score Actor: 0.035888995975255966, Loss Critic: 4.2616473365342245e-05, Noise Std: 0.1953661515553199\n",
      "Episode: 50/1000, Score: 2.3269999479874968, Score Actor: 0.03567816689610481, Loss Critic: 5.172864985070191e-05, Noise Std: 0.12988579352203836\n",
      "Episode: 60/1000, Score: 2.2949999487027526, Score Actor: 0.0359685942530632, Loss Critic: 6.252814637264237e-05, Noise Std: 0.08635231448510455\n",
      "Episode: 70/1000, Score: 2.1589999517425893, Score Actor: 0.03610901162028313, Loss Critic: 7.175021892180666e-05, Noise Std: 0.05740983686309911\n",
      "Episode: 80/1000, Score: 4.054999909363687, Score Actor: 0.03703822195529938, Loss Critic: 8.26215255074203e-05, Noise Std: 0.038167933173536214\n",
      "Episode: 90/1000, Score: 3.832999914325774, Score Actor: 0.03909367322921753, Loss Critic: 9.466501069255173e-05, Noise Std: 0.025375287622109527\n",
      "Episode: 100/1000, Score: 6.23499986063689, Score Actor: 0.04185812920331955, Loss Critic: 0.00010608365846564993, Noise Std: 0.01687031935884958\n",
      "Episode: 100/1000, Average Score over 100 episodes: 2.515699863433838\n",
      "Episode: 110/1000, Score: 7.67599982842803, Score Actor: 0.046443816274404526, Loss Critic: 0.00012407109898049384, Noise Std: 0.011215938889362412\n",
      "Episode: 120/1000, Score: 10.25999977067113, Score Actor: 0.05301118269562721, Loss Critic: 0.0001458894257666543, Noise Std: 0.01\n",
      "Episode: 130/1000, Score: 15.6159996509552, Score Actor: 0.06195859983563423, Loss Critic: 0.00016951547877397388, Noise Std: 0.01\n",
      "Episode: 140/1000, Score: 21.514999519102275, Score Actor: 0.07557862997055054, Loss Critic: 0.00019569863798096776, Noise Std: 0.01\n",
      "Episode: 150/1000, Score: 24.609999449923635, Score Actor: 0.09288447350263596, Loss Critic: 0.00021674676099792123, Noise Std: 0.01\n",
      "Episode: 160/1000, Score: 28.56199936158955, Score Actor: 0.11259104311466217, Loss Critic: 0.0002325084205949679, Noise Std: 0.01\n",
      "Episode: 170/1000, Score: 32.81199926659465, Score Actor: 0.13282614946365356, Loss Critic: 0.0002452668559271842, Noise Std: 0.01\n",
      "Episode: 180/1000, Score: 37.513999161496756, Score Actor: 0.15432798862457275, Loss Critic: 0.00025587971322238445, Noise Std: 0.01\n",
      "Episode: 190/1000, Score: 35.44699920769781, Score Actor: 0.17502257227897644, Loss Critic: 0.0002607337664812803, Noise Std: 0.01\n",
      "Episode: 200/1000, Score: 34.58999922685325, Score Actor: 0.19156815111637115, Loss Critic: 0.00026601881836540997, Noise Std: 0.01\n",
      "Episode: 200/1000, Average Score over 100 episodes: 24.860198974609375\n",
      "Episode: 210/1000, Score: 36.90599917508662, Score Actor: 0.20587950944900513, Loss Critic: 0.00026523356791585684, Noise Std: 0.01\n",
      "Episode: 220/1000, Score: 38.08699914868921, Score Actor: 0.21864041686058044, Loss Critic: 0.00026540589169599116, Noise Std: 0.01\n",
      "Episode: 230/1000, Score: 39.519999116659164, Score Actor: 0.2301345318555832, Loss Critic: 0.00026312703266739845, Noise Std: 0.01\n",
      "Episode: 240/1000, Score: 38.25899914484471, Score Actor: 0.23967202007770538, Loss Critic: 0.00026072299806401134, Noise Std: 0.01\n",
      "Episode: 250/1000, Score: 37.80399915501475, Score Actor: 0.24726523458957672, Loss Critic: 0.000254084006883204, Noise Std: 0.01\n",
      "Episode: 260/1000, Score: 38.633999136462805, Score Actor: 0.2543216347694397, Loss Critic: 0.0002507439930923283, Noise Std: 0.01\n",
      "Episode: 270/1000, Score: 39.383999119699, Score Actor: 0.26093465089797974, Loss Critic: 0.0002488592581357807, Noise Std: 0.01\n",
      "Episode: 280/1000, Score: 38.96099912915379, Score Actor: 0.26707348227500916, Loss Critic: 0.00024653522996231914, Noise Std: 0.01\n",
      "Episode: 290/1000, Score: 39.00399912819266, Score Actor: 0.27296915650367737, Loss Critic: 0.00023834749299567193, Noise Std: 0.01\n",
      "Episode: 300/1000, Score: 38.855999131500724, Score Actor: 0.27756762504577637, Loss Critic: 0.0002371466252952814, Noise Std: 0.01\n",
      "Episode: 300/1000, Average Score over 100 episodes: 38.541500091552734\n",
      "Episode: 310/1000, Score: 39.28299912195653, Score Actor: 0.2820163071155548, Loss Critic: 0.00024274444149341434, Noise Std: 0.01\n",
      "Episode: 320/1000, Score: 39.33599912077189, Score Actor: 0.28568124771118164, Loss Critic: 0.00022918412287253886, Noise Std: 0.01\n",
      "Episode: 330/1000, Score: 39.519999116659164, Score Actor: 0.2893211841583252, Loss Critic: 0.00022852227266412228, Noise Std: 0.01\n",
      "Episode: 340/1000, Score: 39.36399912014603, Score Actor: 0.2929796576499939, Loss Critic: 0.00023133963986765593, Noise Std: 0.01\n",
      "Episode: 350/1000, Score: 39.45999911800027, Score Actor: 0.2967434525489807, Loss Critic: 0.0002242737537017092, Noise Std: 0.01\n",
      "Episode: 360/1000, Score: 39.50499911699444, Score Actor: 0.2995186746120453, Loss Critic: 0.000216492306208238, Noise Std: 0.01\n",
      "Episode: 370/1000, Score: 39.53199911639094, Score Actor: 0.30263522267341614, Loss Critic: 0.00022151728626340628, Noise Std: 0.01\n",
      "Episode: 380/1000, Score: 39.50099911708385, Score Actor: 0.3055039346218109, Loss Critic: 0.00021449329506140202, Noise Std: 0.01\n",
      "Episode: 390/1000, Score: 38.95099912937731, Score Actor: 0.30770546197891235, Loss Critic: 0.00021054180979263037, Noise Std: 0.01\n",
      "Episode: 400/1000, Score: 39.462999117933215, Score Actor: 0.3101268410682678, Loss Critic: 0.00020799096091650426, Noise Std: 0.01\n",
      "Episode: 400/1000, Average Score over 100 episodes: 39.39149856567383\n",
      "Episode: 410/1000, Score: 39.49699911717325, Score Actor: 0.3127083480358124, Loss Critic: 0.00021092183305881917, Noise Std: 0.01\n",
      "Episode: 420/1000, Score: 39.49099911730737, Score Actor: 0.31483516097068787, Loss Critic: 0.00020867543935310096, Noise Std: 0.01\n",
      "Episode: 430/1000, Score: 39.56799911558628, Score Actor: 0.31689491868019104, Loss Critic: 0.00020498708181548864, Noise Std: 0.01\n",
      "Episode: 440/1000, Score: 39.41099911909551, Score Actor: 0.3189272880554199, Loss Critic: 0.00020416367624420673, Noise Std: 0.01\n",
      "Episode: 450/1000, Score: 39.55299911592156, Score Actor: 0.3208143711090088, Loss Critic: 0.00020966347074136138, Noise Std: 0.01\n",
      "Episode: 460/1000, Score: 39.560999115742746, Score Actor: 0.32242193818092346, Loss Critic: 0.00020439497893676162, Noise Std: 0.01\n",
      "Episode: 470/1000, Score: 39.598999114893374, Score Actor: 0.3242785632610321, Loss Critic: 0.00020011344167869538, Noise Std: 0.01\n",
      "Episode: 480/1000, Score: 39.484999117441475, Score Actor: 0.32610148191452026, Loss Critic: 0.00020652699458878487, Noise Std: 0.01\n",
      "Episode: 490/1000, Score: 39.55499911587685, Score Actor: 0.3276691436767578, Loss Critic: 0.00020103921997360885, Noise Std: 0.01\n",
      "Episode: 500/1000, Score: 39.43799911849201, Score Actor: 0.3293214738368988, Loss Critic: 0.0001975445484276861, Noise Std: 0.01\n",
      "Episode: 500/1000, Average Score over 100 episodes: 39.51580047607422\n",
      "Episode: 510/1000, Score: 39.449999118223786, Score Actor: 0.3309437036514282, Loss Critic: 0.00020566201419569552, Noise Std: 0.01\n",
      "Episode: 520/1000, Score: 39.51199911683798, Score Actor: 0.3321612477302551, Loss Critic: 0.0001985703711397946, Noise Std: 0.01\n",
      "Episode: 530/1000, Score: 39.435999118536714, Score Actor: 0.3335317075252533, Loss Critic: 0.00019054503354709595, Noise Std: 0.01\n",
      "Episode: 540/1000, Score: 39.37599911987782, Score Actor: 0.33483970165252686, Loss Critic: 0.00019571826851461083, Noise Std: 0.01\n",
      "Episode: 550/1000, Score: 39.59799911491573, Score Actor: 0.336297869682312, Loss Critic: 0.00018894733511842787, Noise Std: 0.01\n",
      "Episode: 560/1000, Score: 39.564999115653336, Score Actor: 0.33773478865623474, Loss Critic: 0.00019449777028057724, Noise Std: 0.01\n",
      "Episode: 570/1000, Score: 39.157999124750496, Score Actor: 0.33893662691116333, Loss Critic: 0.00019114762835670263, Noise Std: 0.01\n",
      "Episode: 580/1000, Score: 39.577999115362765, Score Actor: 0.3399415612220764, Loss Critic: 0.0001927548582898453, Noise Std: 0.01\n",
      "Episode: 590/1000, Score: 39.39799911938608, Score Actor: 0.3410467505455017, Loss Critic: 0.0001941858499776572, Noise Std: 0.01\n",
      "Episode: 600/1000, Score: 39.60599911473692, Score Actor: 0.34249815344810486, Loss Critic: 0.00018958450527861714, Noise Std: 0.01\n",
      "Episode: 600/1000, Average Score over 100 episodes: 39.46770095825195\n",
      "Episode: 610/1000, Score: 39.60999911464751, Score Actor: 0.34320151805877686, Loss Critic: 0.00018814629584085196, Noise Std: 0.01\n",
      "Episode: 620/1000, Score: 39.51499911677092, Score Actor: 0.344196081161499, Loss Critic: 0.00019202844123356044, Noise Std: 0.01\n",
      "Episode: 630/1000, Score: 39.58799911513925, Score Actor: 0.3452722132205963, Loss Critic: 0.00018915196415036917, Noise Std: 0.01\n",
      "Episode: 640/1000, Score: 39.5849991152063, Score Actor: 0.34657952189445496, Loss Critic: 0.0001852402201620862, Noise Std: 0.01\n",
      "Episode: 650/1000, Score: 39.590999115072194, Score Actor: 0.3472023904323578, Loss Critic: 0.0001902827643789351, Noise Std: 0.01\n",
      "Episode: 660/1000, Score: 39.34399912059307, Score Actor: 0.34793412685394287, Loss Critic: 0.00018672438454814255, Noise Std: 0.01\n",
      "Episode: 670/1000, Score: 39.6119991146028, Score Actor: 0.34879326820373535, Loss Critic: 0.00018666822870727628, Noise Std: 0.01\n",
      "Episode: 680/1000, Score: 39.598999114893374, Score Actor: 0.34940391778945923, Loss Critic: 0.00018038506095763296, Noise Std: 0.01\n",
      "Episode: 690/1000, Score: 39.42099911887199, Score Actor: 0.3503342568874359, Loss Critic: 0.00018321121751796454, Noise Std: 0.01\n",
      "Episode: 700/1000, Score: 39.55499911587685, Score Actor: 0.35100090503692627, Loss Critic: 0.00018530074157752097, Noise Std: 0.01\n",
      "Episode: 700/1000, Average Score over 100 episodes: 39.54199981689453\n",
      "Episode: 710/1000, Score: 39.555999115854505, Score Actor: 0.3512909412384033, Loss Critic: 0.00018908956553786993, Noise Std: 0.01\n",
      "Episode: 720/1000, Score: 39.51899911668151, Score Actor: 0.3523998260498047, Loss Critic: 0.0001756201236275956, Noise Std: 0.01\n",
      "Episode: 730/1000, Score: 39.59399911500513, Score Actor: 0.352966845035553, Loss Critic: 0.00018244472448714077, Noise Std: 0.01\n",
      "Episode: 740/1000, Score: 39.42899911869317, Score Actor: 0.35354897379875183, Loss Critic: 0.0001792631228454411, Noise Std: 0.01\n",
      "Episode: 750/1000, Score: 39.59699911493808, Score Actor: 0.3545779287815094, Loss Critic: 0.0001798099692678079, Noise Std: 0.01\n",
      "Episode: 760/1000, Score: 39.559999115765095, Score Actor: 0.3552008867263794, Loss Critic: 0.00017944170394912362, Noise Std: 0.01\n",
      "Episode: 770/1000, Score: 39.48699911739677, Score Actor: 0.3555750846862793, Loss Critic: 0.00018002493015956134, Noise Std: 0.01\n",
      "Episode: 780/1000, Score: 39.461999117955564, Score Actor: 0.3562871813774109, Loss Critic: 0.00018191008712165058, Noise Std: 0.01\n",
      "Episode: 790/1000, Score: 39.594999114982784, Score Actor: 0.35692358016967773, Loss Critic: 0.00017723714699968696, Noise Std: 0.01\n",
      "Episode: 800/1000, Score: 39.60799911469221, Score Actor: 0.3574751317501068, Loss Critic: 0.00017398360068909824, Noise Std: 0.01\n",
      "Episode: 800/1000, Average Score over 100 episodes: 39.54069900512695\n",
      "Episode: 810/1000, Score: 39.576999115385114, Score Actor: 0.357899010181427, Loss Critic: 0.00017922910046763718, Noise Std: 0.01\n",
      "Episode: 820/1000, Score: 39.62899911422282, Score Actor: 0.3582400679588318, Loss Critic: 0.00017461966490373015, Noise Std: 0.01\n",
      "Episode: 830/1000, Score: 39.50899911690503, Score Actor: 0.3590272068977356, Loss Critic: 0.0001770949747879058, Noise Std: 0.01\n",
      "Episode: 840/1000, Score: 39.57999911531806, Score Actor: 0.359748899936676, Loss Critic: 0.00017420307267457247, Noise Std: 0.01\n",
      "Episode: 850/1000, Score: 39.56199911572039, Score Actor: 0.36007463932037354, Loss Critic: 0.0001750612718751654, Noise Std: 0.01\n",
      "Episode: 860/1000, Score: 39.62399911433458, Score Actor: 0.36042520403862, Loss Critic: 0.00018197254394181073, Noise Std: 0.01\n",
      "Episode: 870/1000, Score: 39.57199911549687, Score Actor: 0.3607947826385498, Loss Critic: 0.00017221913731191307, Noise Std: 0.01\n",
      "Episode: 880/1000, Score: 39.49899911712855, Score Actor: 0.36104926466941833, Loss Critic: 0.00018035100947599858, Noise Std: 0.01\n",
      "Episode: 890/1000, Score: 39.558999115787444, Score Actor: 0.361821711063385, Loss Critic: 0.0001757335994625464, Noise Std: 0.01\n",
      "Episode: 900/1000, Score: 39.49099911730737, Score Actor: 0.36220669746398926, Loss Critic: 0.0001713017263682559, Noise Std: 0.01\n",
      "Episode: 900/1000, Average Score over 100 episodes: 39.56019973754883\n",
      "Episode: 910/1000, Score: 39.52299911659211, Score Actor: 0.36269059777259827, Loss Critic: 0.0001729557989165187, Noise Std: 0.01\n",
      "Episode: 920/1000, Score: 39.599999114871025, Score Actor: 0.363229900598526, Loss Critic: 0.0001682765723671764, Noise Std: 0.01\n",
      "Episode: 930/1000, Score: 39.50799911692739, Score Actor: 0.3638579249382019, Loss Critic: 0.0001699000713415444, Noise Std: 0.01\n",
      "Episode: 940/1000, Score: 39.60699911471456, Score Actor: 0.36398202180862427, Loss Critic: 0.00017554682563059032, Noise Std: 0.01\n",
      "Episode: 950/1000, Score: 39.409999119117856, Score Actor: 0.3643193542957306, Loss Critic: 0.00016912411956582218, Noise Std: 0.01\n",
      "Episode: 960/1000, Score: 39.57999911531806, Score Actor: 0.36480027437210083, Loss Critic: 0.0001653583749430254, Noise Std: 0.01\n",
      "Episode: 970/1000, Score: 39.40799911916256, Score Actor: 0.3650988042354584, Loss Critic: 0.00017255898274015635, Noise Std: 0.01\n",
      "Episode: 980/1000, Score: 39.41799911893904, Score Actor: 0.36520373821258545, Loss Critic: 0.00017014428158290684, Noise Std: 0.01\n",
      "Episode: 990/1000, Score: 39.57099911551923, Score Actor: 0.36582574248313904, Loss Critic: 0.00017383074737153947, Noise Std: 0.01\n",
      "Episode: 1000/1000, Score: 39.590999115072194, Score Actor: 0.36617311835289, Loss Critic: 0.00017382955411449075, Noise Std: 0.01\n",
      "Episode: 1000/1000, Average Score over 100 episodes: 39.52159881591797\n"
     ]
    }
   ],
   "source": [
    "scores = []\n",
    "mean_loss_critic = []\n",
    "mean_score_actor = []\n",
    "loss_critic = []\n",
    "score_actor = []\n",
    "score = 0\n",
    "steps = 0\n",
    "noise_std = noise_std_start\n",
    "\n",
    "with active_session():\n",
    "    for i in range(episodes):\n",
    "        env_info = env.reset(train_mode=True)[brain_name]   \n",
    "        state = torch.from_numpy(env_info.vector_observations).float().to(device)\n",
    "        for t in range(max_t):\n",
    "            with torch.no_grad():\n",
    "                actor.eval()\n",
    "                action = torch.clamp(actor_target(state)+torch.zeros((1, action_size)).normal_(0,noise_std).to(device),-1,1).to('cpu').numpy()#+ ou_process.sample() \n",
    "                actor.train()\n",
    "                env_info = env.step(action)[brain_name]\n",
    "                action = torch.from_numpy(action).float()\n",
    "                next_state = torch.from_numpy(env_info.vector_observations).squeeze().float()\n",
    "                reward = torch.tensor(env_info.rewards).float()\n",
    "                score += reward.item()\n",
    "                done = torch.tensor(env_info.local_done).float()\n",
    "                replay_buffer.push(state.to('cpu').squeeze(), action.squeeze(), next_state, reward, done)\n",
    "            if((steps+1)%n_steps==0 and len(replay_buffer)>=batch_size):\n",
    "                for iteration in range(iterations):\n",
    "                    with torch.no_grad():  \n",
    "                        sample = replay_buffer.sample(batch_size)\n",
    "                        states = torch.cat([row.state.unsqueeze(0) for row in sample], dim=0).to(device)\n",
    "                        actions = torch.cat([row.action.unsqueeze(0) for row in sample], dim=0).to(device)\n",
    "                        rewards = torch.cat([row.reward.unsqueeze(0) for row in sample], dim=0).to(device)\n",
    "                        next_states = torch.cat([row.next_state.unsqueeze(0) for row in sample], dim=0).to(device)\n",
    "                        dones = torch.cat([row.done.unsqueeze(0) for row in sample], dim=0).to(device)\n",
    "                        targets = rewards + (1-dones) * discount_factor * critic_target(next_states, actor_target(next_states))\n",
    "                    optim_critic.zero_grad()\n",
    "                    predictions = critic(states, actions)\n",
    "                    loss = criterion(predictions, targets)\n",
    "                    loss_critic.append(loss.item())\n",
    "                    loss.backward()\n",
    "                    optim_critic.step()\n",
    "                    optim_actor.zero_grad()\n",
    "                    loss = -critic(states, actor(states)).mean()\n",
    "                    score_actor.append(-loss.item())\n",
    "                    loss.backward()\n",
    "                    optim_actor.step()\n",
    "                    with torch.no_grad():\n",
    "                        for target_param, param in zip(critic_target.parameters(), critic.parameters()):\n",
    "                            target_param.data.copy_(target_param.data * (1.0 - tau) + param.data * tau)\n",
    "                        for target_param, param in zip(actor_target.parameters(), actor.parameters()):\n",
    "                            target_param.data.copy_(target_param.data * (1.0 - tau) + param.data * tau)\n",
    "            steps += 1\n",
    "            if done.item():\n",
    "                break\n",
    "            state = next_state.unsqueeze(0).to(device)\n",
    "        noise_std = max(noise_std*noise_std_decay,noise_std_min)\n",
    "        if (i+1)%10==0:\n",
    "            avg_score = score/10\n",
    "            avg_score_actor = torch.tensor(score_actor).mean().item()\n",
    "            avg_loss_critic = torch.tensor(loss_critic).mean().item()\n",
    "            scores.append(avg_score)\n",
    "            mean_loss_critic.append(avg_loss_critic)\n",
    "            mean_score_actor.append(avg_score_actor)\n",
    "            print(\"Episode: {}/{}, Score: {}, Score Actor: {}, Loss Critic: {}, Noise Std: {}\".format(i+1, episodes, avg_score, avg_score_actor, avg_loss_critic, noise_std))\n",
    "            score_actor = []\n",
    "            loss_critic = []\n",
    "            score = 0\n",
    "        if (i+1)%100==0:                                                                   \n",
    "            avg_score = torch.tensor(scores[-10:]).mean()\n",
    "            print(\"Episode: {}/{}, Average Score over {} episodes: {}\".format(i+1, episodes, 100, avg_score))     "
   ]
  },
  {
   "cell_type": "markdown",
   "metadata": {},
   "source": [
    "## Evaluate"
   ]
  },
  {
   "cell_type": "code",
   "execution_count": 9,
   "metadata": {},
   "outputs": [
    {
     "data": {
      "image/png": "[encoded data removed]",
      "text/plain": [
       "<matplotlib.figure.Figure at 0x7ffb7477e2e8>"
      ]
     },
     "metadata": {
      "needs_background": "light"
     },
     "output_type": "display_data"
    }
   ],
   "source": [
    "plt.plot(scores)\n",
    "plt.title(\"Average Score\")\n",
    "plt.show()"
   ]
  },
  {
   "cell_type": "code",
   "execution_count": 10,
   "metadata": {},
   "outputs": [
    {
     "data": {
      "image/png": "[encoded data removed]",
      "text/plain": [
       "<matplotlib.figure.Figure at 0x7ffb38953ba8>"
      ]
     },
     "metadata": {
      "needs_background": "light"
     },
     "output_type": "display_data"
    }
   ],
   "source": [
    "plt.plot(mean_loss_critic)\n",
    "plt.title(\"Critic Loss\")\n",
    "plt.show()"
   ]
  },
  {
   "cell_type": "code",
   "execution_count": 11,
   "metadata": {},
   "outputs": [
    {
     "data": {
      "image/png": "[encoded data removed]",
      "text/plain": [
       "<matplotlib.figure.Figure at 0x7ffb3887a278>"
      ]
     },
     "metadata": {
      "needs_background": "light"
     },
     "output_type": "display_data"
    }
   ],
   "source": [
    "plt.plot(mean_score_actor)\n",
    "plt.title(\"Actor Score\")\n",
    "plt.show()"
   ]
  },
  {
   "cell_type": "code",
   "execution_count": 12,
   "metadata": {},
   "outputs": [],
   "source": [
    "torch.save(actor.state_dict(), \"actor.pth\")"
   ]
  }
 ],
 "metadata": {
  "kernelspec": {
   "display_name": "Python 3",
   "language": "python",
   "name": "python3"
  },
  "language_info": {
   "codemirror_mode": {
    "name": "ipython",
    "version": 3
   },
   "file_extension": ".py",
   "mimetype": "text/x-python",
   "name": "python",
   "nbconvert_exporter": "python",
   "pygments_lexer": "ipython3",
   "version": "3.7.3"
  }
 },
 "nbformat": 4,
 "nbformat_minor": 2
}
